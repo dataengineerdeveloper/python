{
 "cells": [
  {
   "cell_type": "code",
   "execution_count": 2,
   "metadata": {},
   "outputs": [],
   "source": [
    "import pandas as pd\n"
   ]
  },
  {
   "cell_type": "code",
   "execution_count": 3,
   "metadata": {},
   "outputs": [
    {
     "data": {
      "text/plain": [
       "'c:\\\\DataEngineer\\\\100DaysDataEngineer\\\\1. SPRINTS\\\\SPRINT_1\\\\PYTHON'"
      ]
     },
     "execution_count": 3,
     "metadata": {},
     "output_type": "execute_result"
    }
   ],
   "source": [
    "pwd"
   ]
  },
  {
   "cell_type": "code",
   "execution_count": 4,
   "metadata": {},
   "outputs": [],
   "source": [
    "## tenho de correr sempre os comando pwd, qual a diretoria onde deve de estar o csv\n",
    "csv_read = pd.read_csv('test_import.csv')\n",
    "#csv_read = pd.read_csv('test_import.csv', sep='\\t')"
   ]
  },
  {
   "cell_type": "code",
   "execution_count": 5,
   "metadata": {},
   "outputs": [
    {
     "name": "stdout",
     "output_type": "stream",
     "text": [
      "   a   b   c   d\n",
      "0  1  22  33  11\n",
      "1  2  11  11  11\n"
     ]
    }
   ],
   "source": [
    "##isto é o comando para sabermos o que está dnetro do nosso ficheiro de csv\n",
    "#suponhamos que quero limitar o numero de linhas que quero trazer apenas tenho de colcoar dentro do Head\n",
    "#csv_read.head(1)\n",
    "csv_read.head()\n",
    "#podemos ainda usar o print\n",
    "print(csv_read)"
   ]
  },
  {
   "cell_type": "code",
   "execution_count": 6,
   "metadata": {},
   "outputs": [
    {
     "name": "stdout",
     "output_type": "stream",
     "text": [
      "True\n"
     ]
    }
   ],
   "source": [
    "col_names = ['a','b','c','d']\n",
    "col_num = [0,1,2,3]\n",
    "\n",
    "#criar duas variaveis usecols\n",
    "csv_read_v1 = pd.read_csv('test_import.csv',usecols=col_names)\n",
    "csv_read_v2 = pd.read_csv('test_import.csv',usecols=col_num)\n",
    "\n",
    "#validação das variaveis anteriores\n",
    "print(csv_read_v1.equals(csv_read_v2))"
   ]
  },
  {
   "cell_type": "code",
   "execution_count": 7,
   "metadata": {},
   "outputs": [
    {
     "name": "stdout",
     "output_type": "stream",
     "text": [
      "a\n",
      "b\n"
     ]
    }
   ],
   "source": [
    "for country in ['a','b']:\n",
    "    print(country)"
   ]
  },
  {
   "cell_type": "code",
   "execution_count": 8,
   "metadata": {},
   "outputs": [
    {
     "name": "stdout",
     "output_type": "stream",
     "text": [
      "a\n",
      "b\n",
      "c\n"
     ]
    }
   ],
   "source": [
    "countries = ['a','b','c']\n",
    "\n",
    "for country in countries:\n",
    "    print(country)"
   ]
  }
 ],
 "metadata": {
  "interpreter": {
   "hash": "ac59ebe37160ed0dfa835113d9b8498d9f09ceb179beaac4002f036b9467c963"
  },
  "kernelspec": {
   "display_name": "Python 3.9.6 64-bit",
   "name": "python3"
  },
  "language_info": {
   "codemirror_mode": {
    "name": "ipython",
    "version": 3
   },
   "file_extension": ".py",
   "mimetype": "text/x-python",
   "name": "python",
   "nbconvert_exporter": "python",
   "pygments_lexer": "ipython3",
   "version": "3.9.6"
  },
  "orig_nbformat": 4
 },
 "nbformat": 4,
 "nbformat_minor": 2
}
