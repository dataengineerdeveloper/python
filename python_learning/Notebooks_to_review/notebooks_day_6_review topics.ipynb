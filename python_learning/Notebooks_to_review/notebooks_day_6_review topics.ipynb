{
 "cells": [
  {
   "cell_type": "code",
   "execution_count": null,
   "metadata": {},
   "outputs": [],
   "source": [
    "#in this notebook i'll have some review nad new topics"
   ]
  },
  {
   "cell_type": "code",
   "execution_count": 2,
   "metadata": {},
   "outputs": [
    {
     "name": "stdout",
     "output_type": "stream",
     "text": [
      "a\n",
      "b\n"
     ]
    }
   ],
   "source": [
    "for country in ('a','b'):\n",
    "    print(country)"
   ]
  },
  {
   "cell_type": "code",
   "execution_count": 4,
   "metadata": {},
   "outputs": [
    {
     "name": "stdout",
     "output_type": "stream",
     "text": [
      "a\n",
      "b\n",
      "c\n"
     ]
    }
   ],
   "source": [
    "countries = ['a','b','c']\n",
    "\n",
    "for country in countries:\n",
    "    print(country)"
   ]
  },
  {
   "cell_type": "code",
   "execution_count": 5,
   "metadata": {},
   "outputs": [
    {
     "name": "stdout",
     "output_type": "stream",
     "text": [
      "vowal\n",
      "letter is consonant3\n",
      "letter is consonant3\n",
      "letter is consonant3\n",
      "vowal\n",
      "letter is consonant3\n",
      "letter is consonant3\n",
      "letter is consonant3\n",
      "vowal\n",
      "letter is consonant3\n",
      "letter is consonant3\n",
      "letter is consonant3\n",
      "letter is consonant3\n",
      "letter is consonant3\n",
      "vowal\n",
      "letter is consonant3\n",
      "letter is consonant3\n",
      "letter is consonant3\n",
      "letter is consonant3\n",
      "letter is consonant3\n",
      "vowal\n",
      "letter is consonant3\n",
      "letter is consonant3\n",
      "letter is consonant3\n"
     ]
    }
   ],
   "source": [
    "#this going to run each element within the parameter,  and stablish if is cowal or consonant\n",
    "for letters in ('abcdefghijklmnopqrstuvxz'):\n",
    "    if letters in ('aeiou'):\n",
    "        print('vowal')\n",
    "    else:\n",
    "        print('letter is consonant')"
   ]
  },
  {
   "cell_type": "code",
   "execution_count": 10,
   "metadata": {},
   "outputs": [
    {
     "name": "stdout",
     "output_type": "stream",
     "text": [
      "valid integer 4\n"
     ]
    }
   ],
   "source": [
    "# use TRY and EXECEPT VALUEERROR\n",
    "s = 4\n",
    "try:\n",
    "    i = int(s)\n",
    "    print('valid integer',i)\n",
    "except ValueError as err:\n",
    "        print(err)\n"
   ]
  },
  {
   "cell_type": "code",
   "execution_count": null,
   "metadata": {},
   "outputs": [],
   "source": [
    "# CONTINUE  and  BREAK\n",
    "\n",
    "nums = [1,2,3,4]\n",
    "\n",
    "for num in nums:\n",
    "    if num == 3:\n",
    "        print('found')\n",
    "        #continue - coninue after found the number\n",
    "        #break - break after found the value and don't persue for the next iteraction \n",
    "    print(num) "
   ]
  },
  {
   "cell_type": "code",
   "execution_count": 14,
   "metadata": {},
   "outputs": [
    {
     "name": "stdout",
     "output_type": "stream",
     "text": [
      "1 a\n",
      "1 b\n",
      "1 c\n",
      "2 a\n",
      "2 b\n",
      "2 c\n",
      "3 a\n",
      "3 b\n",
      "3 c\n",
      "4 a\n",
      "4 b\n",
      "4 c\n"
     ]
    }
   ],
   "source": [
    "#LOOP WITHIN A LOOP\n",
    "\n",
    "nums = [1,2,3,4]\n",
    "\n",
    "for num in nums:\n",
    "    for letter in  'abc':\n",
    "        print(num,letter)"
   ]
  },
  {
   "cell_type": "code",
   "execution_count": 15,
   "metadata": {},
   "outputs": [
    {
     "name": "stdout",
     "output_type": "stream",
     "text": [
      "value is 5\n",
      "5 x 1 = 5\n",
      "5 x 2 = 10\n",
      "5 x 3 = 15\n",
      "5 x 4 = 20\n",
      "5 x 5 = 25\n",
      "5 x 6 = 30\n",
      "5 x 7 = 35\n",
      "5 x 8 = 40\n",
      "5 x 9 = 45\n",
      "5 x 10 = 50\n"
     ]
    }
   ],
   "source": [
    "#exemplo for range\n",
    "i = 5\n",
    "print('value is', i)\n",
    "for count in range(1,11):\n",
    "    print(i,'x',count,'=',i*count)\n",
    "\n"
   ]
  },
  {
   "cell_type": "code",
   "execution_count": null,
   "metadata": {},
   "outputs": [],
   "source": [
    "#increment numbers using WHILE\n",
    "\n",
    "import time as t\n",
    "num = 1\n",
    "while True:\n",
    "    print(num)\n",
    "    num = num+1\n",
    "    t.sleep(0.5)"
   ]
  },
  {
   "cell_type": "code",
   "execution_count": 18,
   "metadata": {},
   "outputs": [
    {
     "name": "stdout",
     "output_type": "stream",
     "text": [
      "odd\n"
     ]
    }
   ],
   "source": [
    "#exerc even or odd\n",
    "num = 5\n",
    "if num % 2 ==0:\n",
    "    print('even')\n",
    "else:\n",
    "    print('odd')"
   ]
  },
  {
   "cell_type": "code",
   "execution_count": 24,
   "metadata": {},
   "outputs": [],
   "source": [
    "x = 0\n",
    "\n",
    "while True:\n",
    "    if x == 5:\n",
    "        break\n",
    "        print(x)\n",
    "    x += 1"
   ]
  },
  {
   "cell_type": "code",
   "execution_count": 27,
   "metadata": {},
   "outputs": [
    {
     "name": "stdout",
     "output_type": "stream",
     "text": [
      "HELLO FUNCTION\n"
     ]
    }
   ],
   "source": [
    "#FUNCTIONS\n",
    "\n",
    "def hello_func():\n",
    "    return 'hello function'\n",
    "#print(hello_func())\n",
    "print(hello_func().upper())\n"
   ]
  },
  {
   "cell_type": "code",
   "execution_count": null,
   "metadata": {},
   "outputs": [],
   "source": [
    "#how to pass PARAMETERS to a function after def we have to include the parameter withib ()\n",
    "\n",
    "\n"
   ]
  },
  {
   "cell_type": "code",
   "execution_count": null,
   "metadata": {},
   "outputs": [],
   "source": []
  },
  {
   "cell_type": "code",
   "execution_count": null,
   "metadata": {},
   "outputs": [],
   "source": []
  },
  {
   "cell_type": "code",
   "execution_count": null,
   "metadata": {},
   "outputs": [],
   "source": []
  },
  {
   "cell_type": "code",
   "execution_count": null,
   "metadata": {},
   "outputs": [],
   "source": []
  }
 ],
 "metadata": {
  "interpreter": {
   "hash": "ac59ebe37160ed0dfa835113d9b8498d9f09ceb179beaac4002f036b9467c963"
  },
  "kernelspec": {
   "display_name": "Python 3.9.6 64-bit",
   "name": "python3"
  },
  "language_info": {
   "codemirror_mode": {
    "name": "ipython",
    "version": 3
   },
   "file_extension": ".py",
   "mimetype": "text/x-python",
   "name": "python",
   "nbconvert_exporter": "python",
   "pygments_lexer": "ipython3",
   "version": "3.9.6"
  },
  "orig_nbformat": 4
 },
 "nbformat": 4,
 "nbformat_minor": 2
}
