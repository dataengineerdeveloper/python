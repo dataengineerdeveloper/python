{
 "cells": [
  {
   "cell_type": "markdown",
   "metadata": {},
   "source": [
    "# optional parameters"
   ]
  },
  {
   "cell_type": "code",
   "execution_count": 8,
   "metadata": {},
   "outputs": [
    {
     "name": "stdout",
     "output_type": "stream",
     "text": [
      "25\n",
      "2500\n",
      "luisluis\n"
     ]
    }
   ],
   "source": [
    "def func(x):\n",
    "    return x ** 2\n",
    "call = func(5)\n",
    "print(call)\n",
    "\n",
    "#optional parameter in order to avoid constantly a param i can create a default parameter , so this way when i use a caller if i don't specify the param i'm gonna get a default param defined previously\n",
    "def func(x=50):\n",
    "    return x ** 2\n",
    "call = func()\n",
    "print(call)\n",
    "\n",
    "\n",
    "# first param is mandatory but the second one in optional\n",
    "def func(word, text = 2):\n",
    "    print(word*text)\n",
    "    \n",
    "call =  func('luis')\n",
    "\n",
    "    "
   ]
  },
  {
   "cell_type": "code",
   "execution_count": 12,
   "metadata": {},
   "outputs": [
    {
     "name": "stdout",
     "output_type": "stream",
     "text": [
      "this car is a ford fusion from 2021, it is new and has 0 kms.\n"
     ]
    }
   ],
   "source": [
    "class car(object):\n",
    "    #optional param for condition and kms\n",
    "    def __init__ (self,  make, model,  year,  condition = 'new',  kms=0):\n",
    "        self.make = make\n",
    "        self.model = model\n",
    "        self.year = year\n",
    "        self.condition = condition\n",
    "        self.kms = kms\n",
    "    # i can put True as default = True,  and dont need to apply True in the object whip.display unless i need to change\n",
    "    def display(self, showAll=True):\n",
    "        if showAll:\n",
    "            print('this car is a %s %s from %s, it is %s and has %s kms.' %(self.make, self.model,  self.year, self.condition,  self.kms))\n",
    "        else:\n",
    "            print('this car is a %s %s from %s.' %(self.make, self.model,  self.year))\n",
    "whip = car('ford','fusion',2021)\n",
    "whip.display()        "
   ]
  },
  {
   "cell_type": "markdown",
   "metadata": {},
   "source": [
    "#  Static and Class Methods\n"
   ]
  },
  {
   "cell_type": "code",
   "execution_count": 2,
   "metadata": {},
   "outputs": [
    {
     "name": "stdout",
     "output_type": "stream",
     "text": [
      "50\n",
      "True\n"
     ]
    }
   ],
   "source": [
    "# static and class methods\n",
    "\n",
    "class person(object):\n",
    "    #this is a class variable\n",
    "    population = 50\n",
    "    #1 method > note:  every function like this within a class it's call a methods\n",
    "    def __init__(self, name, age):\n",
    "        self.name = name\n",
    "        self.age = age\n",
    "    \n",
    "    #2 method > this method is consider a class method // we can reuse a a methods in order methods within a class\n",
    "    #@classsmethod this is call decorator\n",
    "    \n",
    "    @classmethod\n",
    "    def getpopulation(cls):\n",
    "        return cls.population\n",
    "    #3 method >  this nmethos is a static method // when the method is establish and cannot be reuse in other method\n",
    "    # @staticmethod this is call decorator\n",
    "    @staticmethod\n",
    "    def isadult(age):\n",
    "        return age >= 18\n",
    "    #4 method\n",
    "    def display(self):\n",
    "        print(self.name, 'is', self.age, 'years old')\n",
    "        \n",
    "newPerson = person('luis',19)\n",
    "\n",
    "print(person.getpopulation())\n",
    "# to get something from a class only use class name + method name following the param, but you can also apply the validation within a static method\n",
    "print(person.isadult(21))"
   ]
  },
  {
   "cell_type": "markdown",
   "metadata": {},
   "source": [
    "# map() function"
   ]
  },
  {
   "cell_type": "code",
   "execution_count": 6,
   "metadata": {},
   "outputs": [
    {
     "name": "stdout",
     "output_type": "stream",
     "text": [
      "[1, 4, 27, 256, 3125, 46656, 823543, 16777216, 387420489, 10000000000]\n",
      "-------  map function -------\n",
      "[1, 4, 27, 256, 3125, 46656, 823543, 16777216, 387420489, 10000000000]\n",
      "-------  other way,  is by using list compreention:  -------\n",
      "[4, 256, 46656, 16777216, 10000000000]\n"
     ]
    }
   ],
   "source": [
    "li = [1,2,3,4,5,6,7,8,9,10]\n",
    "\n",
    "def func(x):\n",
    "    # it goes to apply the exponential value with a list then will do a iteration to go through the 10 values\n",
    "    return x**x\n",
    "newList = []\n",
    "for x in  li:\n",
    "    newList.append(func(x))\n",
    "print(newList)\n",
    "\n",
    "\n",
    "\n",
    "print('-------  map function -------')\n",
    "\n",
    "\n",
    "def func(x):\n",
    "    return x**x\n",
    "#here he define the func and specify the list in thius case li.  And wew are going to get the exact some output as we get before\n",
    "# to sum up a maop takes 2 param func and list >  and it will apply a function through the values within a list\n",
    "print(list(map(func,li)))\n",
    "\n",
    "\n",
    "print('-------  other way,  is by using list compreention:  -------')\n",
    "\n",
    "print([func(x) for x in li if x%2 == 0])\n",
    "\n"
   ]
  },
  {
   "cell_type": "markdown",
   "metadata": {},
   "source": [
    "# filter function"
   ]
  },
  {
   "cell_type": "code",
   "execution_count": 1,
   "metadata": {},
   "outputs": [
    {
     "name": "stdout",
     "output_type": "stream",
     "text": [
      "[1, 2, 3, 4, 5, 6, 7, 8, 9, 10]\n",
      "[1, 3, 5, 7, 9]\n",
      "[8, 10, 12, 14, 16]\n"
     ]
    }
   ],
   "source": [
    "#lets start this 2 functions\n",
    "\n",
    "def add7(x):\n",
    "    return x+7\n",
    "def isodd(x):\n",
    "    #this is what we apply when we need to show a value that is odd\n",
    "    return x%2 !=0\n",
    "a = [1,2,3,4,5,6,7,8,9,10]\n",
    "# basically it will filter value based on a predefine function\n",
    "b = list(filter(isodd,a))\n",
    "# go through the list b and add 7 to every value\n",
    "#can do in 2 ways\n",
    "#c =list(map(add7,b))\n",
    "c =list(map(add7,list(filter(isodd,a))))\n",
    "\n",
    "print(a)\n",
    "print(b)\n",
    "print(c)\n",
    "\n"
   ]
  },
  {
   "cell_type": "markdown",
   "metadata": {},
   "source": [
    "# lanbda function\n",
    "\n",
    "call normally anonimous function"
   ]
  },
  {
   "cell_type": "code",
   "execution_count": null,
   "metadata": {},
   "outputs": [],
   "source": [
    "def func(x):\n",
    "    return x+5\n",
    "print(func(2))\n",
    "\n",
    "print('----- LAMBDA FUNCTION -----')\n",
    "\n",
    "\n",
    "func2 = lambda x: x + 5\n",
    "\n",
    "print(func2(2))\n",
    "\n",
    "print('----- LAMBDA FUNCTION example 2 -----')\n",
    "\n",
    "\n",
    "def func1(x):\n",
    "    func2 = lambda:  x + 5 \n",
    "    return func2(x)+ 85\n",
    "\n",
    "\n",
    "print(func2(9))\n",
    "print(func1(2))\n"
   ]
  },
  {
   "cell_type": "code",
   "execution_count": 19,
   "metadata": {},
   "outputs": [
    {
     "name": "stdout",
     "output_type": "stream",
     "text": [
      "----- LAMBDA FUNCTION example 2 -----\n",
      "10\n",
      "92\n"
     ]
    }
   ],
   "source": [
    "print('----- LAMBDA FUNCTION example 2 -----')\n",
    "\n",
    "\n",
    "def func(x):\n",
    "    func2 = lambda x:  x + 5 # value 5\n",
    "    return func2(x)+ 85 # plus 85\n",
    "\n",
    "# this is extremelly usefull when i need to add more \"mini\" functions within a function\n",
    "\n",
    "#we vcan use also optional parameter in a lambda function lambda x,y=4 :  x + y\n",
    "func3 = lambda x,y: x+y\n",
    "print(func3(5,5))\n",
    "#print(func3(5,5))\n",
    "\n",
    "print(func(2)) # start with parameter 2,  gives a output of 92\n"
   ]
  },
  {
   "cell_type": "code",
   "execution_count": null,
   "metadata": {},
   "outputs": [],
   "source": [
    "print('----- LAMBDA FUNCTION example 3 -----')\n",
    "\n",
    "a = [1,2,3,4,5,6,7,8,9,10]\n",
    "\n",
    "newValue = list(map(lambda x: x+5,a))\n",
    "\n",
    "print(newValue)"
   ]
  },
  {
   "cell_type": "code",
   "execution_count": 29,
   "metadata": {},
   "outputs": [
    {
     "name": "stdout",
     "output_type": "stream",
     "text": [
      "----- LAMBDA FUNCTION example 5 -----\n"
     ]
    },
    {
     "ename": "TypeError",
     "evalue": "'list' object is not callable",
     "output_type": "error",
     "traceback": [
      "\u001b[0;31m---------------------------------------------------------------------------\u001b[0m",
      "\u001b[0;31mTypeError\u001b[0m                                 Traceback (most recent call last)",
      "\u001b[0;32m/var/folders/w8/8460nxx15qdb1m__q1wn2nk00000gn/T/ipykernel_706/3123789286.py\u001b[0m in \u001b[0;36m<module>\u001b[0;34m\u001b[0m\n\u001b[1;32m      3\u001b[0m \u001b[0ma\u001b[0m \u001b[0;34m=\u001b[0m \u001b[0;34m[\u001b[0m\u001b[0;36m1\u001b[0m\u001b[0;34m,\u001b[0m\u001b[0;36m2\u001b[0m\u001b[0;34m,\u001b[0m\u001b[0;36m3\u001b[0m\u001b[0;34m,\u001b[0m\u001b[0;36m4\u001b[0m\u001b[0;34m,\u001b[0m\u001b[0;36m5\u001b[0m\u001b[0;34m,\u001b[0m\u001b[0;36m6\u001b[0m\u001b[0;34m,\u001b[0m\u001b[0;36m7\u001b[0m\u001b[0;34m,\u001b[0m\u001b[0;36m8\u001b[0m\u001b[0;34m,\u001b[0m\u001b[0;36m9\u001b[0m\u001b[0;34m,\u001b[0m\u001b[0;36m10\u001b[0m\u001b[0;34m]\u001b[0m\u001b[0;34m\u001b[0m\u001b[0m\n\u001b[1;32m      4\u001b[0m \u001b[0;34m\u001b[0m\u001b[0m\n\u001b[0;32m----> 5\u001b[0;31m \u001b[0mnewValue\u001b[0m \u001b[0;34m=\u001b[0m \u001b[0mlist\u001b[0m\u001b[0;34m(\u001b[0m\u001b[0mfilter\u001b[0m\u001b[0;34m(\u001b[0m\u001b[0;32mlambda\u001b[0m \u001b[0mx\u001b[0m\u001b[0;34m:\u001b[0m \u001b[0mx\u001b[0m\u001b[0;34m%\u001b[0m\u001b[0;36m2\u001b[0m\u001b[0;34m==\u001b[0m\u001b[0;36m0\u001b[0m\u001b[0;34m,\u001b[0m\u001b[0ma\u001b[0m\u001b[0;34m)\u001b[0m\u001b[0;34m)\u001b[0m\u001b[0;34m\u001b[0m\u001b[0m\n\u001b[0m\u001b[1;32m      6\u001b[0m \u001b[0;34m\u001b[0m\u001b[0m\n\u001b[1;32m      7\u001b[0m \u001b[0mprint\u001b[0m\u001b[0;34m(\u001b[0m\u001b[0mnewValue\u001b[0m\u001b[0;34m)\u001b[0m\u001b[0;34m\u001b[0m\u001b[0m\n",
      "\u001b[0;31mTypeError\u001b[0m: 'list' object is not callable"
     ]
    }
   ],
   "source": [
    "print('----- LAMBDA FUNCTION example 5 -----')\n",
    "\n",
    "a = [1,2,3,4,5,6,7,8,9,10]\n",
    "\n",
    "newValue = list(filter(lambda x: x%2==0,a))\n",
    "\n",
    "print(newValue)"
   ]
  },
  {
   "cell_type": "markdown",
   "metadata": {},
   "source": [
    " # collections / counter()\n",
    "\n",
    "\n",
    " counter is parte os collections module\n",
    "\n",
    " container can be use to store multiple objects\n",
    "\n",
    " this is flowing are some type of containers\n",
    "\n",
    "# containers\n",
    " 1. List\n",
    " 2. set\n",
    " 3. dict\n",
    " 4. tuple -  inmutable\n",
    "\n",
    "#   types\n",
    "1.  counter <- in this examples\n",
    "2.  deque \n",
    "3.  namedTuple()\n",
    "4.  orderDict\n",
    "5.  defaultdict\n",
    "\n",
    " \n",
    "\n",
    "\n",
    "\n",
    " "
   ]
  },
  {
   "cell_type": "code",
   "execution_count": 45,
   "metadata": {},
   "outputs": [
    {
     "name": "stdout",
     "output_type": "stream",
     "text": [
      "Counter({'a': 2, 'l': 2, 'g': 1, 'd': 1})\n",
      "Counter({'a': 2, 'c': 2, 'b': 1})\n",
      "Counter({'b': 2, 'a': 1})\n",
      "Counter({'dogs': 7, 'cats': 4})\n",
      "[('dogs', 7), ('cats', 4)]\n",
      "Counter({'a': 3, 'b': 1, 'c': -1, 'd': -3})\n",
      "Counter({'a': 4, 'b': 2, 'c': 0, 'd': -2})\n",
      "Counter()\n",
      "Counter({'a': 5, 'b': 4, 'c': 1})\n",
      "Counter({'a': 3})\n",
      "\n",
      "Counter({'b': 2, 'a': 1})\n",
      "Counter({'a': 4, 'b': 2, 'c': 1})\n"
     ]
    }
   ],
   "source": [
    "import collections\n",
    "from collections import Counter\n",
    "\n",
    "#this will be converted in a dictionary,  even this one call gallad,  the counter will count the number of times that each elements appear\n",
    "c = Counter('gallad')\n",
    "print(c)\n",
    "c = Counter(['a','a','b','c','c'])\n",
    "print(c)\n",
    "c = Counter({'a':1, 'b':2})\n",
    "print(c)\n",
    "c = Counter(cats = 4, dogs = 7)\n",
    "print(c)\n",
    "\n",
    "# if  i need to know the most common element just,  use de folowing method\n",
    "print(c.most_common(2))\n",
    "\n",
    "\n",
    "# we can also have a method where we can add or subtract\n",
    "c = Counter(a=4,b=2,c=0, d=-2 ) \n",
    "d = ['a','b','c','d']\n",
    "# with this all elements in var b will be subracted from c\n",
    "c.subtract(d)\n",
    "print(c)\n",
    "\n",
    "# to update any value,  we can do the following,  basically we are going to get the some elements as the origianal variable\n",
    "\n",
    "c.update(d)\n",
    "print(c)\n",
    "\n",
    "\n",
    "# the method clear is to remove all the counts\n",
    "\n",
    "c.clear()\n",
    "print(c)\n",
    "\n",
    "\n",
    "c = Counter(a=4, b=2, c=0,  d=-2)\n",
    "d = Counter(['a','b','b','c'])\n",
    "\n",
    "print(c+d)\n",
    "# in thios case i'm not gonna see the other elements b and c,  because only appear values above 0\n",
    "print(c-d)\n",
    "print()\n",
    "\n",
    "# to do a intersepction between the counters\n",
    "print(c&d)\n",
    "# union elements\n",
    "print(c|d)\n",
    "\n",
    "\n",
    "\n",
    "\n"
   ]
  },
  {
   "cell_type": "markdown",
   "metadata": {},
   "source": [
    "# collections / namedtuple()\n",
    "\n",
    "\n",
    " "
   ]
  },
  {
   "cell_type": "code",
   "execution_count": 58,
   "metadata": {},
   "outputs": [
    {
     "name": "stdout",
     "output_type": "stream",
     "text": [
      "point(x=3, y=4, z=5)\n",
      "3 4 5\n",
      "3\n",
      "('x', 'y', 'z')\n",
      "point(x=6, y=4, z=5)\n",
      "point(x='a', y='b', z='c')\n"
     ]
    }
   ],
   "source": [
    "import collections\n",
    "from collections import namedtuple\n",
    "\n",
    "#this work to dict,  tuple, etc.  with dict,  it will change the values for the newP\n",
    "point= namedtuple('point', {'x':0, 'y':0 , 'z':0})\n",
    "newP = point(3,4,5)\n",
    "\n",
    "#this is going  the values from a first var with a second one in the exact order\n",
    "print(newP)\n",
    "\n",
    "# if i need to know the values in a variable newP\n",
    "print(newP.x, newP.y, newP.z)\n",
    "# to know the value according with a index,  the b i'll show me that is 3\n",
    "\n",
    "print(newP[0])\n",
    "\n",
    "#and if a need to know rthe name fields\n",
    "print(newP._fields)\n",
    "\n",
    "# in order to use  the replace i have to create a var\n",
    "\n",
    "newP = newP._replace(x = 6)\n",
    "print(newP)\n",
    "\n",
    "P2 = point._make(['a','b','c'])\n",
    "print(P2)\n"
   ]
  },
  {
   "cell_type": "markdown",
   "metadata": {},
   "source": [
    "# collections deque\n",
    "\n",
    "\n",
    "deque is faster than a list\n"
   ]
  },
  {
   "cell_type": "code",
   "execution_count": 67,
   "metadata": {},
   "outputs": [
    {
     "name": "stdout",
     "output_type": "stream",
     "text": [
      "deque(['e', 'l', 'l'])\n",
      "deque([])\n",
      "deque(['y', 'e', 'h', '4', '6', '5', 'h', 'e', 'l', 'l', 'o'])\n"
     ]
    }
   ],
   "source": [
    "import collections\n",
    "from collections import deque\n",
    "\n",
    "\n",
    "d = deque('hello')\n",
    "d.append('4')\n",
    "#add new values to the left\n",
    "d.appendleft(5)\n",
    "\n",
    "\n",
    "# to remove values use pop()\n",
    "\n",
    "\n",
    "d = deque('hello')\n",
    "d.pop()\n",
    "#remove new values to the left\n",
    "d.popleft()\n",
    "print(d)\n",
    "\n",
    "d.clear()\n",
    "print(d)\n",
    "\n",
    "#it will add in the end of a list,  like an extension\n",
    "d.extend('465')\n",
    "d.extend('hello')\n",
    "#imagine that i wanna  use extendleft,  the result it will something like yeh,  from element hey.it  will basically revert\n",
    "d.extendleft('hey')  \n",
    "print(d)"
   ]
  },
  {
   "cell_type": "code",
   "execution_count": 76,
   "metadata": {},
   "outputs": [
    {
     "name": "stdout",
     "output_type": "stream",
     "text": [
      "deque([' ', ' ', 'h', 'e', 'y'], maxlen=5)\n"
     ]
    }
   ],
   "source": [
    "import collections\n",
    "from collections import deque\n",
    "\n",
    "#with a maxlen i can say the number of max\n",
    "d = deque('hello,  hey',  maxlen=5)\n",
    "print(d)"
   ]
  },
  {
   "cell_type": "code",
   "execution_count": null,
   "metadata": {},
   "outputs": [],
   "source": [
    "class employee:\n",
    "    pass\n",
    " emp_1 =  employee()\n",
    " emp_2 =  employee()\n",
    " \n",
    " print(emp_1)\n",
    " print(emp_2)\n",
    " "
   ]
  }
 ],
 "metadata": {
  "kernelspec": {
   "display_name": "Python 3.7.0b5 64-bit",
   "language": "python",
   "name": "python3"
  },
  "language_info": {
   "codemirror_mode": {
    "name": "ipython",
    "version": 3
   },
   "file_extension": ".py",
   "mimetype": "text/x-python",
   "name": "python",
   "nbconvert_exporter": "python",
   "pygments_lexer": "ipython3",
   "version": "3.7.0"
  },
  "orig_nbformat": 4,
  "vscode": {
   "interpreter": {
    "hash": "aee8b7b246df8f9039afb4144a1f6fd8d2ca17a180786b69acc140d282b71a49"
   }
  }
 },
 "nbformat": 4,
 "nbformat_minor": 2
}
