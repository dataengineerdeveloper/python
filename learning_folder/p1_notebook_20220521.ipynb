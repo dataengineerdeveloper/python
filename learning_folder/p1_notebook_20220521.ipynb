{
 "cells": [
  {
   "cell_type": "markdown",
   "metadata": {},
   "source": [
    "#material review -  python basics\n",
    "\n",
    "source:  https://www.youtube.com/watch?v=1uCH3zqbv2s&list=PLzMcBGfZo4-mFu00qxl0a67RhjjZj3jXm&index=8&ab_channel=TechWithTim\n",
    "\n",
    "topics that i go through this notebooks\n",
    "\n",
    "1. variables and datatypes\n",
    "2. basic operator and input\n",
    "3. conditions\n",
    "4. if/elif / else\n",
    "5. chained conditions and nested statements\n",
    "6. for loops\n",
    "7. while loops\n",
    "8. list and tuples\n",
    "9. iteration by item (for loops continued)\n",
    "10. string methods\n",
    "11. slice operators\n",
    "12. functions\n",
    "13. how to read a text file\n",
    "14. how to write to a text file\n",
    "15. using count() and find()\n",
    "16. intro to modular programming\n",
    "17. optinal parameters\n",
    "18. try and except(error handling)\n",
    "19. global and local variables\n",
    "20. classes and objects"
   ]
  },
  {
   "cell_type": "code",
   "execution_count": null,
   "metadata": {},
   "outputs": [],
   "source": [
    "#STRINGS\n",
    "name = 'luis'\n",
    "age= 20\n",
    "is_Male = True\n",
    "\n",
    "\n",
    "print(name.lower())\n",
    "print(name.upper())\n",
    "# can also validate if a string is upper or lower case,  in this case it will be false\n",
    "print(name.isupper())\n",
    "#however this can be changed,  by putting upper before it will make our string True\n",
    "print(name.upper().isupper())\n",
    "#index\n",
    "print(name[0:2])\n",
    "#there is also the function \n",
    "print(name.index(\"i\"))\n",
    "#imagine that you insert a letter that doesn't exist it will trow and error\n",
    "#i can also use a replace function to change someting in the string,  i'm going to change s by z,  getting luiz\n",
    "print(name.replace('s','z'))\n",
    "\n"
   ]
  },
  {
   "cell_type": "code",
   "execution_count": 11,
   "metadata": {},
   "outputs": [
    {
     "name": "stdout",
     "output_type": "stream",
     "text": [
      "1\n",
      "5 my age\n",
      "5\n",
      "6\n",
      "4096\n",
      "3\n"
     ]
    }
   ],
   "source": [
    "#NUMBER\n",
    "\n",
    "#GET A REMAINER VALUE,  output 1,  how many times 3 fit within 10, \n",
    "\n",
    "print(10 %3)\n",
    "\n",
    "# numebr might also be converted,  this is can be usefull whena i need to concat number with strings,  if we dont use the string to convert the number i'll get an error\n",
    "\n",
    "number = 5\n",
    "abs_numner= -5\n",
    "print(str(number)+ ' my age')\n",
    "print(abs(abs_numner))\n",
    "# max value among those 2 values\n",
    "print(max(4,6))\n",
    "#power value 4^6\n",
    "print(pow(4,6)) \n",
    "print(round(3.2)) \n"
   ]
  },
  {
   "cell_type": "markdown",
   "metadata": {},
   "source": [
    "#input"
   ]
  },
  {
   "cell_type": "code",
   "execution_count": 21,
   "metadata": {},
   "outputs": [
    {
     "name": "stdout",
     "output_type": "stream",
     "text": [
      "whats your name?\n",
      "luis\n",
      "pick number 1\n",
      "2\n",
      "pick number 2\n",
      "2\n",
      "the Value is 4\n",
      "<class 'str'>\n"
     ]
    }
   ],
   "source": [
    "print('whats your name?')\n",
    "name = input()\n",
    "print(name)\n",
    "\n",
    "print('pick number 1')\n",
    "num1 = input()\n",
    "print(num1)\n",
    "\n",
    "print('pick number 2')\n",
    "num2 = input()\n",
    "print(num2)\n",
    "\n",
    "sum = int(num1) + int(num2)\n",
    "print('the Value is',sum)\n",
    "\n",
    "print(type(num2))"
   ]
  },
  {
   "cell_type": "markdown",
   "metadata": {},
   "source": [
    "# conditions\n",
    "<\n",
    ">\n",
    "==\n",
    "!=\n",
    "\n",
    "\n",
    "if condition == True:\n",
    "    do this"
   ]
  },
  {
   "cell_type": "code",
   "execution_count": 33,
   "metadata": {},
   "outputs": [
    {
     "name": "stdout",
     "output_type": "stream",
     "text": [
      "you are not an adult,  go home!\n"
     ]
    }
   ],
   "source": [
    "age = input('whats is your age?')\n",
    "\n",
    "# here i must declare the datatype for this condition otherwise i'll get an error,  because cannot comapre str with int\n",
    "if int(age) > 18:\n",
    "    print('you are an adult')\n",
    "elif int(age) == 18:\n",
    "    print('congrats,  you turn an adult')\n",
    "elif int(age) < 18:\n",
    "    print('you are not an adult,  go home!')\n",
    "else:\n",
    "    print('invalid')\n",
    "\n",
    "\n"
   ]
  },
  {
   "cell_type": "markdown",
   "metadata": {},
   "source": [
    "# chained conditions and nested statements"
   ]
  },
  {
   "cell_type": "code",
   "execution_count": 42,
   "metadata": {},
   "outputs": [
    {
     "name": "stdout",
     "output_type": "stream",
     "text": [
      "ran\n",
      "ran\n",
      ":(\n",
      "ran\n",
      "----- chained contiditions -----\n",
      "x = 2,  y =3 \n"
     ]
    }
   ],
   "source": [
    "\n",
    "x = 2\n",
    "y = 3\n",
    "\n",
    "# imagine taht you need to to use AND in a condition,  so both contitions must be True otherwise it won't run\n",
    "\n",
    "if y == 3 and x ==2:\n",
    "    print('ran')\n",
    "\n",
    "# one of this conditions must be True\n",
    "if y == 3 or x ==4:\n",
    "    print('ran')\n",
    "else:\n",
    "    print('')\n",
    "    \n",
    "# we can also reverse a conditions using if not\n",
    "\n",
    "if  not (y == 3 or x ==4):\n",
    "    print('ran')\n",
    "else:\n",
    "    print(':(')\n",
    "\n",
    "# as you can see it will ran\n",
    "if  not (y == 4 or x ==56):\n",
    "    print('ran')\n",
    "else:\n",
    "    print(':(')\n",
    "    \n",
    "    \n",
    "print('----- chained contiditions -----')\n",
    "\n",
    "if x == 2:\n",
    "    if y == 3:\n",
    "        print('x = 2,  y =3 ')\n",
    "    else: \n",
    "        print('x = 2,  y !=3')\n",
    "else:\n",
    "     print('x != 2')   \n"
   ]
  },
  {
   "cell_type": "markdown",
   "metadata": {},
   "source": [
    "# for loops"
   ]
  },
  {
   "cell_type": "code",
   "execution_count": 61,
   "metadata": {},
   "outputs": [
    {
     "name": "stdout",
     "output_type": "stream",
     "text": [
      "your value is:  10\n",
      "10 x 1 = 10\n",
      "10 x 2 = 20\n",
      "10 x 3 = 30\n",
      "10 x 4 = 40\n",
      "10 x 5 = 50\n",
      "10 x 6 = 60\n",
      "10 x 7 = 70\n",
      "10 x 8 = 80\n",
      "10 x 9 = 90\n",
      "10 x 10 = 100\n"
     ]
    }
   ],
   "source": [
    "#simple demonstration \n",
    "value = int(input('pick a value to multiply?: '))\n",
    "\n",
    "print('your value is: ', value)\n",
    "\n",
    "#it goes through a range that you define\n",
    "for x in range(1,11):\n",
    "    print(value,'x',x,'=',(value*x))"
   ]
  },
  {
   "cell_type": "code",
   "execution_count": 63,
   "metadata": {},
   "outputs": [
    {
     "name": "stdout",
     "output_type": "stream",
     "text": [
      "1\n",
      "3\n",
      "5\n",
      "7\n",
      "9\n"
     ]
    }
   ],
   "source": [
    "# we can define to incremnt values by 2 for example,  by add ,2 after the max range\n",
    "\n",
    "for x in range(1,10,2):\n",
    "    print(x)"
   ]
  },
  {
   "cell_type": "markdown",
   "metadata": {},
   "source": [
    "# while loops\n",
    "\n",
    "until the conditons is true the cycle wiil continue running when get the while find any condition false or through a Break as well.\n",
    "\n",
    "while condition == True:\n",
    "    do this\n",
    "    Break \n",
    "\n"
   ]
  },
  {
   "cell_type": "code",
   "execution_count": 65,
   "metadata": {},
   "outputs": [
    {
     "name": "stdout",
     "output_type": "stream",
     "text": [
      "value match the criteria\n",
      "value match the criteria\n"
     ]
    }
   ],
   "source": [
    "loop = True\n",
    "\n",
    "# basicallly our if conditions is 'stop',  until the user insert stop as a input the program will ask you constantly to insert a new value. only when the user insert stop the program will go to the break stage\n",
    "while loop:\n",
    "    name = input('insert something: ')\n",
    "    if name == 'stop':\n",
    "        loop = False\n",
    "        break"
   ]
  },
  {
   "cell_type": "markdown",
   "metadata": {},
   "source": [
    "# list and tuples\n",
    "\n",
    "list is a collection of different datatypes\n",
    "\n"
   ]
  },
  {
   "cell_type": "code",
   "execution_count": 74,
   "metadata": {},
   "outputs": [
    {
     "name": "stdout",
     "output_type": "stream",
     "text": [
      "['apple', 'pear', 1]\n",
      "pear\n",
      "['apple', 'pear', 1, 'banana']\n",
      "['apple', 'pear', 'blueberry', 'banana']\n",
      "<class 'tuple'>\n"
     ]
    }
   ],
   "source": [
    "fruit = ['apple','pear',1]\n",
    "print(fruit)\n",
    "# imagine that i need to access a particular value, i value to apply a indice,  like this\n",
    "\n",
    "#get pear\n",
    "print(fruit[1])\n",
    "\n",
    "# i can also add a value to a list,  using the append\n",
    "\n",
    "fruit.append('banana')\n",
    "\n",
    "print(fruit)\n",
    "\n",
    "\n",
    "# the other operations is to remove a value from a list\n",
    "# i'm going to remove de integer with the list and add a new fruit\n",
    "\n",
    "#add the indece of the value and then add what you want to add to a list\n",
    "fruit[2] = 'blueberry'\n",
    "\n",
    "print(fruit)\n",
    "\n",
    "# we can use a couple values within parenthesis and the check the type of variable\n",
    "color = (255,255,255)\n",
    "print(type(color))\n"
   ]
  },
  {
   "cell_type": "markdown",
   "metadata": {},
   "source": [
    "# iteration by item with for loop"
   ]
  },
  {
   "cell_type": "code",
   "execution_count": 82,
   "metadata": {},
   "outputs": [
    {
     "name": "stdout",
     "output_type": "stream",
     "text": [
      "not pears\n",
      "pears\n",
      "not pears\n",
      "not pears\n",
      "---- using iterations with indices--\n",
      "not pears\n",
      "pears\n",
      "not pears\n",
      "not pears\n"
     ]
    }
   ],
   "source": [
    "fruits = ['apple','pears','banana',11]\n",
    "\n",
    "for x in fruits:\n",
    "    if x == 'pears':\n",
    "        print(x)\n",
    "    else:\n",
    "        print('not pears')\n",
    "\n",
    "print('---- using iterations with indices ---')\n",
    "\n",
    "#normally takes more time,  in of you hava no ideia de range within your list o can use a len()\n",
    "#add range and len\n",
    "for x in range (len(fruits)):\n",
    "    #apply x to know the indices even in the print\n",
    "    if fruits[x] == 'pears':\n",
    "        print(fruits[x])\n",
    "    else:\n",
    "        print('not pears')\n",
    "\n",
    "\n"
   ]
  },
  {
   "cell_type": "markdown",
   "metadata": {},
   "source": [
    "# string methods -  basically is mething that i can call from a string\n",
    "\n",
    "# .strip(), len(), .lower() , .upper(), .split()\n",
    "\n",
    "# there are tons of other methods that i can search\n"
   ]
  },
  {
   "cell_type": "code",
   "execution_count": 87,
   "metadata": {},
   "outputs": [
    {
     "name": "stdout",
     "output_type": "stream",
     "text": [
      "hello.luis.how.are.you\n",
      "['hello', 'luis', 'how', 'are', 'you']\n"
     ]
    }
   ],
   "source": [
    "# .strip() -  remove empty space within a varaible\n",
    "\n",
    "#if i type a few blank space the outcome it will be with blank spaces\n",
    "x =  input('insert something: ')\n",
    "print(x.strip())\n",
    "\n",
    "#remove the delimiter if i insert ('hello.luis.how.are.you')\n",
    "print(x.split('.'))\n",
    "\n",
    "\n"
   ]
  },
  {
   "cell_type": "markdown",
   "metadata": {},
   "source": [
    "# slice operators\n",
    "\n",
    "text[start:stop:step]\n",
    "basically the start is where yje index will start ,  the stop the end and the step is the index that you want to jump\n"
   ]
  },
  {
   "cell_type": "code",
   "execution_count": 103,
   "metadata": {},
   "outputs": [
    {
     "name": "stdout",
     "output_type": "stream",
     "text": [
      "python\n",
      "hlom aei usa  ielanpto\n",
      "['banana', 'pears', 'g', 'a', 'r', 'l', 'i', 'c', 'apple']\n"
     ]
    }
   ],
   "source": [
    "fruits = ['banana','pears','apple']\n",
    "text = 'hello my name is luis an i like learn python'\n",
    "\n",
    "# imagine that i want to access the final value jsut add -1::\n",
    "print(text[-6:])  #>>> output :  python\n",
    "print(text[::2])\n",
    "\n",
    "# other cool thing is using indice to apply new value\n",
    "# i can define and which place i'm going to add the new value\n",
    "fruits[0:0] = \"garlic\"\n",
    "print(fruits)"
   ]
  },
  {
   "cell_type": "markdown",
   "metadata": {},
   "source": [
    "# functions\n",
    "\n",
    "def =  function\n",
    "(x) = parameter\n",
    "newvalue =  caller function\n",
    "newvalue=addTwo('what it comes within is an argument')\n",
    "\n",
    "def addtwo(x):\n",
    "    return x +2\n",
    "newvalue=addTwo('argument to be inserted')\n",
    "print(newvalue)"
   ]
  },
  {
   "cell_type": "code",
   "execution_count": 112,
   "metadata": {},
   "outputs": [
    {
     "name": "stdout",
     "output_type": "stream",
     "text": [
      "196\n",
      "8\n",
      "hello\n"
     ]
    },
    {
     "data": {
      "text/plain": [
       "7"
      ]
     },
     "execution_count": 112,
     "metadata": {},
     "output_type": "execute_result"
    }
   ],
   "source": [
    "def addTwo(x):\n",
    "    return (x + 2)**2\n",
    "\n",
    "def subractTwo(number):\n",
    "    return number -2\n",
    "\n",
    "def printstrings(string):\n",
    "    print(string)\n",
    "    \n",
    "#new_value is the caller of our 2 functions\n",
    "#by add 12 within addtwo we will see our first function working\n",
    "new_value = addTwo(12)\n",
    "print(new_value)\n",
    "\n",
    "new_value2 = subractTwo(10)\n",
    "print(new_value2)\n",
    "\n",
    "#another cool thing is i can print the value from a function,  as you can see i'm only using a caller and apply a value to be print on a function\n",
    "printstrings('hello')\n",
    "\n",
    "def accel(mass,force):\n",
    "    a = mass+force\n",
    "    return a\n",
    "\n",
    "accel(2,5)"
   ]
  },
  {
   "cell_type": "markdown",
   "metadata": {},
   "source": [
    "# read a text file\n",
    "\n",
    "# the file is within the same folder as p1"
   ]
  },
  {
   "cell_type": "code",
   "execution_count": 117,
   "metadata": {},
   "outputs": [
    {
     "name": "stdout",
     "output_type": "stream",
     "text": [
      "['luis', 'nogueira', 'text', 'file']\n"
     ]
    }
   ],
   "source": [
    "\n",
    "# after the file name if i use 'r' = read 'w' = write\n",
    "file = open('read_file_p1.txt','r')\n",
    "\n",
    "f = file.readlines()\n",
    "\n",
    "newlist = []\n",
    "for line in f:\n",
    "    #if i'm not using this if statement the last caracther from last word will be removed\n",
    "    if line[-1] == '\\n':\n",
    "        newlist.append(line[:-1])\n",
    "    else:\n",
    "        newlist.append(line)\n",
    "        \n",
    "print(newlist)\n",
    "\n",
    "#i can realize that \\n,  because i insert each word in different lines\n",
    "#>>>['luis\\n', 'nogueira\\n', 'text\\n', 'files']"
   ]
  },
  {
   "cell_type": "code",
   "execution_count": 118,
   "metadata": {},
   "outputs": [
    {
     "name": "stdout",
     "output_type": "stream",
     "text": [
      "['luis', 'nogueira', 'text', 'files']\n"
     ]
    }
   ],
   "source": [
    "# this is a simple way to avoid using the if statement,  only by using the strip,  that remove \\n\n",
    "file = open('read_file_p1.txt','r')\n",
    "\n",
    "f = file.readlines()\n",
    "\n",
    "newlist = []\n",
    "for line in f:\n",
    "   newlist.append(line.strip())\n",
    "        \n",
    "print(newlist)"
   ]
  },
  {
   "cell_type": "markdown",
   "metadata": {},
   "source": [
    "# write to a file\n",
    "\n"
   ]
  },
  {
   "cell_type": "code",
   "execution_count": 121,
   "metadata": {},
   "outputs": [],
   "source": [
    "file = open('read_file_p1.txt','w')\n",
    "\n",
    "# basically its going to remove text within the file and add our argument\n",
    "file.write('pythonnnn\\n')\n",
    "file.write('i''m learning\\n and its cool')\n",
    "\n",
    "file.close()\n",
    "\n",
    "\n"
   ]
  },
  {
   "cell_type": "markdown",
   "metadata": {},
   "source": [
    "# methods to use in lists and strings\n",
    "\n",
    "# .find(),  count()"
   ]
  },
  {
   "cell_type": "code",
   "execution_count": 130,
   "metadata": {},
   "outputs": [
    {
     "name": "stdout",
     "output_type": "stream",
     "text": [
      "4\n",
      "Not good\n"
     ]
    }
   ],
   "source": [
    "string = 'hello'\n",
    "print(string.find('o'))\n",
    "\n",
    "#if i need to use count to validate a particular caractere within a variable\n",
    "\n",
    "string1 = '323343çlkçlkçlds_fd'\n",
    "if string1.count('_') > 0: \n",
    "    print('Not good,  you have a varaibel within your variable')\n",
    "else:\n",
    "    print('its ok,  there is no problem!')"
   ]
  },
  {
   "cell_type": "markdown",
   "metadata": {},
   "source": [
    "# modular programing -  we can you multiple file together to build a program. \n",
    "\n",
    "normally when we start a program ,it usually start with\n",
    "\n",
    "import math,  por exeample"
   ]
  },
  {
   "cell_type": "code",
   "execution_count": 15,
   "metadata": {},
   "outputs": [
    {
     "name": "stdout",
     "output_type": "stream",
     "text": [
      "3.141592653589793\n"
     ]
    },
    {
     "ename": "AttributeError",
     "evalue": "module 'myModule' has no attribute 'anotherFunc'",
     "output_type": "error",
     "traceback": [
      "\u001b[0;31m---------------------------------------------------------------------------\u001b[0m",
      "\u001b[0;31mAttributeError\u001b[0m                            Traceback (most recent call last)",
      "\u001b[0;32m/var/folders/w8/8460nxx15qdb1m__q1wn2nk00000gn/T/ipykernel_3502/3750907994.py\u001b[0m in \u001b[0;36m<module>\u001b[0;34m\u001b[0m\n\u001b[1;32m     16\u001b[0m \u001b[0;34m\u001b[0m\u001b[0m\n\u001b[1;32m     17\u001b[0m \u001b[0mprint\u001b[0m\u001b[0;34m(\u001b[0m\u001b[0mmath\u001b[0m\u001b[0;34m.\u001b[0m\u001b[0mpi\u001b[0m\u001b[0;34m)\u001b[0m\u001b[0;34m\u001b[0m\u001b[0m\n\u001b[0;32m---> 18\u001b[0;31m \u001b[0mprint\u001b[0m\u001b[0;34m(\u001b[0m\u001b[0mmyModule\u001b[0m\u001b[0;34m.\u001b[0m\u001b[0manotherFunc\u001b[0m\u001b[0;34m(\u001b[0m\u001b[0;36m1090291\u001b[0m\u001b[0;34m)\u001b[0m\u001b[0;34m)\u001b[0m\u001b[0;34m\u001b[0m\u001b[0m\n\u001b[0m\u001b[1;32m     19\u001b[0m \u001b[0;34m\u001b[0m\u001b[0m\n\u001b[1;32m     20\u001b[0m \u001b[0;34m\u001b[0m\u001b[0m\n",
      "\u001b[0;31mAttributeError\u001b[0m: module 'myModule' has no attribute 'anotherFunc'"
     ]
    }
   ],
   "source": [
    "#in this case this module is a built in module but there are several modules that you can use.\n",
    "\n",
    "import math\n",
    "import myModule\n",
    "\n",
    "\n",
    "'''\n",
    "i've create a new file on the same dir call mymodule\n",
    " and within this file i just create a function, like this.\n",
    " def myFunc(x):\n",
    "    return x + 5\n",
    "\n",
    "i'm going to import my module and then print in this notebook\n",
    "\n",
    "'''\n",
    "\n",
    "print(math.pi)\n",
    "print(myModule.anotherFunc(102020202))\n",
    "\n",
    "\n"
   ]
  }
 ],
 "metadata": {
  "kernelspec": {
   "display_name": "Python 3.7.0b5 64-bit",
   "language": "python",
   "name": "python3"
  },
  "language_info": {
   "codemirror_mode": {
    "name": "ipython",
    "version": 3
   },
   "file_extension": ".py",
   "mimetype": "text/x-python",
   "name": "python",
   "nbconvert_exporter": "python",
   "pygments_lexer": "ipython3",
   "version": "3.7.0b5"
  },
  "orig_nbformat": 4,
  "vscode": {
   "interpreter": {
    "hash": "aee8b7b246df8f9039afb4144a1f6fd8d2ca17a180786b69acc140d282b71a49"
   }
  }
 },
 "nbformat": 4,
 "nbformat_minor": 2
}
