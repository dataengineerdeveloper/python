{
 "cells": [
  {
   "cell_type": "code",
   "execution_count": 5,
   "metadata": {},
   "outputs": [
    {
     "ename": "AnalysisException",
     "evalue": "cannot resolve 'age' given input columns: [id;name;age];\n'Aggregate ['age], ['age, count(1) AS count#93L]\n+- Relation [id;name;age#84] csv\n",
     "output_type": "error",
     "traceback": [
      "\u001b[1;31m---------------------------------------------------------------------------\u001b[0m",
      "\u001b[1;31mAnalysisException\u001b[0m                         Traceback (most recent call last)",
      "\u001b[1;32mc:\\Users\\z004hedj\\GITREPO\\python\\projects\\pyspark\\pysaprk_01\\pys.ipynb Cell 1'\u001b[0m in \u001b[0;36m<cell line: 12>\u001b[1;34m()\u001b[0m\n\u001b[0;32m     <a href='vscode-notebook-cell:/c%3A/Users/z004hedj/GITREPO/python/projects/pyspark/pysaprk_01/pys.ipynb#ch0000000?line=9'>10</a>\u001b[0m data_file \u001b[39m=\u001b[39m \u001b[39m'\u001b[39m\u001b[39mC:\u001b[39m\u001b[39m\\\\\u001b[39;00m\u001b[39mreadcsv.csv\u001b[39m\u001b[39m'\u001b[39m\n\u001b[0;32m     <a href='vscode-notebook-cell:/c%3A/Users/z004hedj/GITREPO/python/projects/pyspark/pysaprk_01/pys.ipynb#ch0000000?line=10'>11</a>\u001b[0m sdfData \u001b[39m=\u001b[39m scSpark\u001b[39m.\u001b[39mread\u001b[39m.\u001b[39mcsv(data_file, header\u001b[39m=\u001b[39m\u001b[39mTrue\u001b[39;00m, sep\u001b[39m=\u001b[39m\u001b[39m\"\u001b[39m\u001b[39m,\u001b[39m\u001b[39m\"\u001b[39m)\u001b[39m.\u001b[39mcache()\n\u001b[1;32m---> <a href='vscode-notebook-cell:/c%3A/Users/z004hedj/GITREPO/python/projects/pyspark/pysaprk_01/pys.ipynb#ch0000000?line=11'>12</a>\u001b[0m age \u001b[39m=\u001b[39m sdfData\u001b[39m.\u001b[39;49mgroupBy(\u001b[39m'\u001b[39;49m\u001b[39mage\u001b[39;49m\u001b[39m'\u001b[39;49m)\u001b[39m.\u001b[39;49mcount()\n\u001b[0;32m     <a href='vscode-notebook-cell:/c%3A/Users/z004hedj/GITREPO/python/projects/pyspark/pysaprk_01/pys.ipynb#ch0000000?line=12'>13</a>\u001b[0m \u001b[39mprint\u001b[39m(age\u001b[39m.\u001b[39mshow())\n",
      "File \u001b[1;32mc:\\python\\lib\\site-packages\\pyspark\\sql\\group.py:31\u001b[0m, in \u001b[0;36mdfapi.<locals>._api\u001b[1;34m(self)\u001b[0m\n\u001b[0;32m     29\u001b[0m \u001b[39mdef\u001b[39;00m \u001b[39m_api\u001b[39m(\u001b[39mself\u001b[39m):\n\u001b[0;32m     30\u001b[0m     name \u001b[39m=\u001b[39m f\u001b[39m.\u001b[39m\u001b[39m__name__\u001b[39m\n\u001b[1;32m---> 31\u001b[0m     jdf \u001b[39m=\u001b[39m \u001b[39mgetattr\u001b[39;49m(\u001b[39mself\u001b[39;49m\u001b[39m.\u001b[39;49m_jgd, name)()\n\u001b[0;32m     32\u001b[0m     \u001b[39mreturn\u001b[39;00m DataFrame(jdf, \u001b[39mself\u001b[39m\u001b[39m.\u001b[39msql_ctx)\n",
      "File \u001b[1;32mc:\\python\\lib\\site-packages\\py4j\\java_gateway.py:1321\u001b[0m, in \u001b[0;36mJavaMember.__call__\u001b[1;34m(self, *args)\u001b[0m\n\u001b[0;32m   1315\u001b[0m command \u001b[39m=\u001b[39m proto\u001b[39m.\u001b[39mCALL_COMMAND_NAME \u001b[39m+\u001b[39m\\\n\u001b[0;32m   1316\u001b[0m     \u001b[39mself\u001b[39m\u001b[39m.\u001b[39mcommand_header \u001b[39m+\u001b[39m\\\n\u001b[0;32m   1317\u001b[0m     args_command \u001b[39m+\u001b[39m\\\n\u001b[0;32m   1318\u001b[0m     proto\u001b[39m.\u001b[39mEND_COMMAND_PART\n\u001b[0;32m   1320\u001b[0m answer \u001b[39m=\u001b[39m \u001b[39mself\u001b[39m\u001b[39m.\u001b[39mgateway_client\u001b[39m.\u001b[39msend_command(command)\n\u001b[1;32m-> 1321\u001b[0m return_value \u001b[39m=\u001b[39m get_return_value(\n\u001b[0;32m   1322\u001b[0m     answer, \u001b[39mself\u001b[39;49m\u001b[39m.\u001b[39;49mgateway_client, \u001b[39mself\u001b[39;49m\u001b[39m.\u001b[39;49mtarget_id, \u001b[39mself\u001b[39;49m\u001b[39m.\u001b[39;49mname)\n\u001b[0;32m   1324\u001b[0m \u001b[39mfor\u001b[39;00m temp_arg \u001b[39min\u001b[39;00m temp_args:\n\u001b[0;32m   1325\u001b[0m     temp_arg\u001b[39m.\u001b[39m_detach()\n",
      "File \u001b[1;32mc:\\python\\lib\\site-packages\\pyspark\\sql\\utils.py:117\u001b[0m, in \u001b[0;36mcapture_sql_exception.<locals>.deco\u001b[1;34m(*a, **kw)\u001b[0m\n\u001b[0;32m    113\u001b[0m converted \u001b[39m=\u001b[39m convert_exception(e\u001b[39m.\u001b[39mjava_exception)\n\u001b[0;32m    114\u001b[0m \u001b[39mif\u001b[39;00m \u001b[39mnot\u001b[39;00m \u001b[39misinstance\u001b[39m(converted, UnknownException):\n\u001b[0;32m    115\u001b[0m     \u001b[39m# Hide where the exception came from that shows a non-Pythonic\u001b[39;00m\n\u001b[0;32m    116\u001b[0m     \u001b[39m# JVM exception message.\u001b[39;00m\n\u001b[1;32m--> 117\u001b[0m     \u001b[39mraise\u001b[39;00m converted \u001b[39mfrom\u001b[39;00m \u001b[39mNone\u001b[39m\n\u001b[0;32m    118\u001b[0m \u001b[39melse\u001b[39;00m:\n\u001b[0;32m    119\u001b[0m     \u001b[39mraise\u001b[39;00m\n",
      "\u001b[1;31mAnalysisException\u001b[0m: cannot resolve 'age' given input columns: [id;name;age];\n'Aggregate ['age], ['age, count(1) AS count#93L]\n+- Relation [id;name;age#84] csv\n"
     ]
    }
   ],
   "source": [
    "from pyspark.sql import SparkSession\n",
    "from pyspark.sql import SQLContext\n",
    "if __name__ == '__main__':\n",
    "    scSpark = SparkSession \\\n",
    "        .builder \\\n",
    "        .appName(\"readcsv csv\") \\\n",
    "        .getOrCreate()\n",
    "        \n",
    "        \n",
    "data_file = 'readcsv.csv'\n",
    "sdfData = scSpark.read.csv(data_file, header=True, sep=\",\").cache()\n",
    "age = sdfData.groupBy('age').count()\n",
    "print(age.show())"
   ]
  }
 ],
 "metadata": {
  "kernelspec": {
   "display_name": "Python 3.10.2 64-bit",
   "language": "python",
   "name": "python3"
  },
  "language_info": {
   "codemirror_mode": {
    "name": "ipython",
    "version": 3
   },
   "file_extension": ".py",
   "mimetype": "text/x-python",
   "name": "python",
   "nbconvert_exporter": "python",
   "pygments_lexer": "ipython3",
   "version": "3.10.2"
  },
  "orig_nbformat": 4,
  "vscode": {
   "interpreter": {
    "hash": "fbe58ca63fe33f9eeae9e71d10368d2b4a57f2b1b395836210cc60d362c66949"
   }
  }
 },
 "nbformat": 4,
 "nbformat_minor": 2
}
